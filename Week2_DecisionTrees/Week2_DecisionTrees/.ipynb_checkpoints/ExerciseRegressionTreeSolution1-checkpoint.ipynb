{
 "cells": [
  {
   "cell_type": "markdown",
   "metadata": {},
   "source": [
    "## Regression Tree or Other Algorithm Exercise\n",
    "\n",
    "Kaggle hosts a dataset which contains house sales prices for King County, which includes Seattle. \n",
    "\n",
    "You can download the dataset from [Kaggle](https://www.kaggle.com/harlfoxem/housesalesprediction) or feel free to download it from my [GitHub](https://raw.githubusercontent.com/mGalarnyk/Tutorial_Data/master/King_County/kingCountyHouseData.csv)\n",
    "\n",
    "\n",
    "Your goal is to do the following:\n",
    "\n",
    "1. The challenge is about predicting house prices based on whatever features in the dataset you choose. One thing to keep in mind is if you dont know what the features in the dataset mean, you can look on Kaggle for the documentation (you dont need an account to view feature information). "
   ]
  },
  {
   "cell_type": "code",
   "execution_count": 1,
   "metadata": {},
   "outputs": [],
   "source": [
    "%matplotlib inline\n",
    "import matplotlib.pyplot as plt\n",
    "import seaborn as sns\n",
    "import pandas as pd\n",
    "import numpy as np\n",
    "from sklearn import metrics\n",
    "from sklearn import tree\n",
    "from sklearn.linear_model import LinearRegression\n",
    "from sklearn.tree import DecisionTreeRegressor\n",
    "from sklearn.model_selection import train_test_split"
   ]
  },
  {
   "cell_type": "code",
   "execution_count": 2,
   "metadata": {},
   "outputs": [],
   "source": [
    "### Load the Data\n",
    "url = 'https://raw.githubusercontent.com/mGalarnyk/Tutorial_Data/master/King_County/kingCountyHouseData.csv'\n",
    "df = pd.read_csv(url)"
   ]
  },
  {
   "cell_type": "code",
   "execution_count": 3,
   "metadata": {},
   "outputs": [
    {
     "name": "stdout",
     "output_type": "stream",
     "text": [
      "0.5028786077192524\n",
      "0.2061232922581545\n"
     ]
    }
   ],
   "source": [
    "\"\"\"\n",
    "This solution is what I like to call here is my model approach\n",
    "\"\"\"\n",
    "\n",
    "\n",
    "# Guessing which variables are useful,assuming no missing values and no categorical variables\n",
    "X = df.loc[:, ['bedrooms',\n",
    "               'bathrooms',\n",
    "               'sqft_living',\n",
    "               'sqft_lot',\n",
    "               'floors']]\n",
    "\n",
    "y = df.loc[:, 'price'].values\n",
    "\n",
    "# test_size: what proportion of original data is used for test set\n",
    "X_train, X_test, Y_train, Y_test = train_test_split(X, y, random_state=0)\n",
    "\n",
    "lin_reg = LinearRegression()\n",
    "dt_reg = DecisionTreeRegressor()\n",
    "\n",
    "lin_reg.fit(X_train, Y_train)\n",
    "dt_reg.fit(X_train, Y_train)\n",
    "\n",
    "lin_reg_score = lin_reg.score(X_test, Y_test)\n",
    "dt_reg_score = dt_reg.score(X_test, Y_test)\n",
    "print(lin_reg_score)\n",
    "print(dt_reg_score)\n"
   ]
  },
  {
   "cell_type": "markdown",
   "metadata": {},
   "source": [
    "Obviously not a good result for regression trees. There is a much better solution."
   ]
  },
  {
   "cell_type": "code",
   "execution_count": null,
   "metadata": {},
   "outputs": [],
   "source": []
  }
 ],
 "metadata": {
  "anaconda-cloud": {},
  "kernelspec": {
   "display_name": "Python 3 (ipykernel)",
   "language": "python",
   "name": "python3"
  },
  "language_info": {
   "codemirror_mode": {
    "name": "ipython",
    "version": 3
   },
   "file_extension": ".py",
   "mimetype": "text/x-python",
   "name": "python",
   "nbconvert_exporter": "python",
   "pygments_lexer": "ipython3",
   "version": "3.9.7"
  }
 },
 "nbformat": 4,
 "nbformat_minor": 1
}
