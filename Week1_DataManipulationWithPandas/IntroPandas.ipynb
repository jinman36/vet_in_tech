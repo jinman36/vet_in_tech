{
 "cells": [
  {
   "cell_type": "markdown",
   "metadata": {},
   "source": [
    "## Introduction to Pandas\n",
    "This lesson, outlines techniques for effectively loading, storing, manipulating, and exporting in-memory data in Python. In order to make apply a machine learning algorithm or even make a visualization, we need data and it helps to have it in an organized tablular form.\n",
    "The pandas library provides easy-to-use data structures and data analysis tools that you can use to clean and understand your data.\n",
    "\n",
    "An important data structure of the pandas library is a fast and efficient object for data manipulation called a `DataFrame`. \n",
    "\n",
    "![](images/pandasDataFrame.png)"
   ]
  }
 ],
 "metadata": {
  "anaconda-cloud": {},
  "kernelspec": {
   "display_name": "Python 3 (ipykernel)",
   "language": "python",
   "name": "python3"
  },
  "language_info": {
   "codemirror_mode": {
    "name": "ipython",
    "version": 3
   },
   "file_extension": ".py",
   "mimetype": "text/x-python",
   "name": "python",
   "nbconvert_exporter": "python",
   "pygments_lexer": "ipython3",
   "version": "3.11.5"
  }
 },
 "nbformat": 4,
 "nbformat_minor": 1
}
