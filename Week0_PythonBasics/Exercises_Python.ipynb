{
 "cells": [
  {
   "cell_type": "markdown",
   "metadata": {},
   "source": [
    "# Complete Each Exercise"
   ]
  },
  {
   "cell_type": "markdown",
   "metadata": {},
   "source": [
    "This is the learn by doing portion of the lecture. It is important to keep in mind that there are several ways to solve each of these exercises."
   ]
  },
  {
   "cell_type": "markdown",
   "metadata": {},
   "source": [
    "## 0) Conditional Logic \n",
    "\n",
    "1. Declare and assign a variable num to an integer value. \n",
    "2. Write a series of if, elif, else statements that will print the num you assigned. But for multiples of three print \"Fizz\" instead of the number and for the multiples of five print \"Buzz\". For numbers which are multiples of both three and five print \"FizzBuzz\"."
   ]
  },
  {
   "cell_type": "code",
   "execution_count": null,
   "metadata": {
    "collapsed": true
   },
   "outputs": [],
   "source": [
    "num = 20"
   ]
  },
  {
   "cell_type": "markdown",
   "metadata": {},
   "source": [
    "## 1). FizzBuzz\n",
    "\n",
    "Write a program that prints the numbers from 1 to 20. But for multiples of three print “Fizz” instead of the number and for the multiples of five print “Buzz”. For numbers which are multiples of both three and five print “FizzBuzz”."
   ]
  },
  {
   "cell_type": "code",
   "execution_count": null,
   "metadata": {
    "collapsed": true
   },
   "outputs": [],
   "source": [
    "def fizzBuzz(num):\n",
    "    \n",
    "    for i in range(1,num):\n",
    "        if i % 3 == 0 and i % 5 == 0:\n",
    "            print('fizzBuzz')\n",
    "        if i % 3 == 0:\n",
    "            print(\"fizz\")\n",
    "        elif i % 5 == 0:\n",
    "            print(\"Buzz\")\n",
    "        else:\n",
    "            print(i)\n",
    "    \n",
    "fizzBuzz(num)"
   ]
  },
  {
   "cell_type": "markdown",
   "metadata": {},
   "source": [
    "## 2). Generate Prime Numbers\n",
    "Write a program to generate a <b>list</b> of all prime numbers less than 20.\n",
    "Before starting it is important to note what a prime number is.\n",
    "1. A prime number has to be a positive integer\n",
    "2. Divisible by exactly 2 integers (1 and itself)\n",
    "3. 1 is not a prime number"
   ]
  },
  {
   "cell_type": "code",
   "execution_count": null,
   "metadata": {},
   "outputs": [],
   "source": [
    "import sympy\n",
    "\n",
    "def prime_gen(num = 20):\n",
    "    for x in range(0,num):\n",
    "        if x == 1:\n",
    "            print(x)\n",
    "        elif sympy.isprime(x):\n",
    "            print(x)\n",
    "            \n",
    "prime_gen(num)"
   ]
  },
  {
   "cell_type": "markdown",
   "metadata": {},
   "source": [
    "## 3). Fibonacci Sequence"
   ]
  },
  {
   "cell_type": "markdown",
   "metadata": {},
   "source": [
    "Fibonacci sequence is an integer sequence characterized by the fact that every number after the first two is the sum of the two preceding ones. By definition, the first two numbers in the Fibonacci sequence are either 1 and 1 (<b>which is how I like to code it</b>), or 0 and 1, depending on the chosen starting point of the sequence, and each subsequent number is the sum of the previous two."
   ]
  },
  {
   "cell_type": "code",
   "execution_count": null,
   "metadata": {
    "collapsed": true
   },
   "outputs": [],
   "source": [
    "#set beginning numbers\n",
    "seq_num = 10\n",
    "num1 = 1\n",
    "num2 = 1\n",
    "\n",
    "#set placeholder variable for next number in sequence\n",
    "next = num2\n",
    "# counter\n",
    "count = 1\n",
    "\n",
    "while count <= seq_num:\n",
    "    count+=1\n",
    "    print(next, end=\"\")\n",
    "    num1, num2 = num2, next\n",
    "    next = num1 + num2\n",
    "    print()\n",
    "\n"
   ]
  },
  {
   "cell_type": "markdown",
   "metadata": {},
   "source": [
    "## 4). Word Count\n",
    "\n",
    "For the text in the variable <b>text</b>, count how many times each word occurs"
   ]
  },
  {
   "cell_type": "code",
   "execution_count": null,
   "metadata": {
    "collapsed": true
   },
   "outputs": [],
   "source": [
    "# Multiple line string\n",
    "text=\"\"\"Mr. Collins returned into Hertfordshire soon after it had been quitted by the Gardiners and Jane; but as he took up his abode with the Lucases, his arrival was no great inconvenience to Mrs. Bennet. His marriage was now fast approaching, and she was at length so far resigned as to think it inevitable, and even repeatedly to say, in an ill-natured tone, that she \"wished they might be happy.\" Thursday was to be the wedding day, and on Wednesday Miss Lucas paid her farewell visit; and when she rose to take leave, Elizabeth, ashamed of her mother's ungracious and reluctant good wishes, and sincerely affected herself, accompanied her out of the room. As they went downstairs together, Charlotte said:\"\"\"\n",
    "print(text)"
   ]
  },
  {
   "cell_type": "code",
   "execution_count": null,
   "metadata": {},
   "outputs": [],
   "source": [
    "import string\n",
    "\n",
    "def word_count(text):\n",
    "    word_dict = {}\n",
    "    text = text.lower()\n",
    "    new_text = \"\"\n",
    "    for i in text:\n",
    "        if i not in string.punctuation:\n",
    "            new_text+=i\n",
    "    words = new_text.split()    \n",
    "    for word in words:\n",
    "        if word in word_dict:\n",
    "            word_dict[word] += 1\n",
    "        else:\n",
    "            word_dict[word] = 1\n",
    "    # print(word_dict)\n",
    "    return word_dict\n",
    "    \n",
    "word_count(text)"
   ]
  },
  {
   "cell_type": "markdown",
   "metadata": {},
   "source": [
    "### Subtasks"
   ]
  },
  {
   "cell_type": "markdown",
   "metadata": {},
   "source": [
    "#### a. String Manipulation: Remove Punctuation, make all text lower()"
   ]
  },
  {
   "cell_type": "code",
   "execution_count": null,
   "metadata": {
    "collapsed": true
   },
   "outputs": [],
   "source": []
  },
  {
   "cell_type": "markdown",
   "metadata": {},
   "source": [
    "#### b. String Manipulation: Split each word into a element in a list"
   ]
  },
  {
   "cell_type": "code",
   "execution_count": null,
   "metadata": {
    "collapsed": true
   },
   "outputs": [],
   "source": []
  },
  {
   "cell_type": "markdown",
   "metadata": {},
   "source": [
    "#### c. Count how many times each word occurs in a list using a dictionary"
   ]
  },
  {
   "cell_type": "code",
   "execution_count": null,
   "metadata": {
    "collapsed": true
   },
   "outputs": [],
   "source": []
  },
  {
   "cell_type": "markdown",
   "metadata": {},
   "source": [
    "## 5). Calculating a Monthly Car Payment"
   ]
  },
  {
   "cell_type": "markdown",
   "metadata": {},
   "source": [
    "Your monthly payment, also called your Equated Monthly Installment (EMI) is defined by [Investopedia](https://en.wikipedia.org/wiki/Investopedia) as a fixed payment amount made by a borrower to a lender at a specified date each calendar month. Equated monthly installments are used to pay off both interest and principal each month, so that over a specified number of years, the loan is paid off in full."
   ]
  },
  {
   "cell_type": "markdown",
   "metadata": {},
   "source": [
    "A monthly payment can be calculated using an EMI formula similar to the one below."
   ]
  },
  {
   "cell_type": "markdown",
   "metadata": {},
   "source": [
    "![](images/EMI_formula.png)"
   ]
  },
  {
   "cell_type": "markdown",
   "metadata": {},
   "source": [
    "Say I buy want to buy a 2019 Toyota Sienna for $31,115. I am curious how much it will cost me each month if I decide on taking out a loan to buy this new vehicle. A car dealer offers me a fixed interest rate of 7.02% over a 60 month term. How much would a monthly car payment be assuming the sales tax rate is 7.5%?"
   ]
  },
  {
   "cell_type": "code",
   "execution_count": 1,
   "metadata": {},
   "outputs": [],
   "source": [
    "p = 31115 * (1.075)\n",
    "r = 0.0702/12\n",
    "n = 60"
   ]
  },
  {
   "cell_type": "code",
   "execution_count": null,
   "metadata": {},
   "outputs": [],
   "source": []
  },
  {
   "cell_type": "code",
   "execution_count": 2,
   "metadata": {},
   "outputs": [
    {
     "name": "stdout",
     "output_type": "stream",
     "text": [
      "662.64\n"
     ]
    }
   ],
   "source": [
    "numerator = (r*(1+r)**n)\n",
    "denomenator = ((1+r)**n) - 1\n",
    "emi = p * (numerator/ denomenator)\n",
    "\n",
    "print(f\"{emi:.2f}\")"
   ]
  },
  {
   "cell_type": "code",
   "execution_count": 3,
   "metadata": {},
   "outputs": [
    {
     "data": {
      "text/plain": [
       "33448.625"
      ]
     },
     "execution_count": 3,
     "metadata": {},
     "output_type": "execute_result"
    }
   ],
   "source": [
    "p"
   ]
  },
  {
   "cell_type": "markdown",
   "metadata": {},
   "source": [
    "While this is a simplified and relatively accurate calculation (except for the sales tax being an assumption), more accurate calculations require work. Data Analytics/Science is about communicating results. We really do need how to do something more complicated (how much in total interest are we paying, how do we visualize this. This is what we will explore in future lectures)"
   ]
  },
  {
   "cell_type": "markdown",
   "metadata": {},
   "source": [
    "### Challenge Question: Calculate Total Interest Paid Over the Course of a Loan"
   ]
  },
  {
   "cell_type": "markdown",
   "metadata": {},
   "source": [
    "This requires knowing a few things. It is often the case"
   ]
  },
  {
   "cell_type": "markdown",
   "metadata": {},
   "source": [
    "1-) The first thing is to calculate how much of the monthly payment will be paid towards interest in a month."
   ]
  },
  {
   "cell_type": "markdown",
   "metadata": {},
   "source": [
    "Interest paid\n",
    "\n",
    "$$r*P$$ where r/12 is the interest rate (APR) and P is the principal"
   ]
  },
  {
   "cell_type": "code",
   "execution_count": 4,
   "metadata": {
    "collapsed": true
   },
   "outputs": [
    {
     "data": {
      "text/plain": [
       "195.67445625"
      ]
     },
     "execution_count": 4,
     "metadata": {},
     "output_type": "execute_result"
    }
   ],
   "source": [
    "#Calculate one month of interest\n",
    "interest_paid = r * p\n",
    "interest_paid"
   ]
  },
  {
   "cell_type": "markdown",
   "metadata": {},
   "source": [
    "2-) Each month, some of the monthly payment is paid towards principal and some towards interest. As principal lowers, to work out the interest you pay in the following months, you need to first calculate your new principal."
   ]
  },
  {
   "cell_type": "code",
   "execution_count": 5,
   "metadata": {
    "collapsed": true
   },
   "outputs": [
    {
     "data": {
      "text/plain": [
       "32981.66092387217"
      ]
     },
     "execution_count": 5,
     "metadata": {},
     "output_type": "execute_result"
    }
   ],
   "source": [
    "p - (emi - interest_paid)"
   ]
  },
  {
   "cell_type": "markdown",
   "metadata": {},
   "source": [
    "3-) Repeat steps 1 and 2 until the principal reaches 0."
   ]
  },
  {
   "cell_type": "code",
   "execution_count": 6,
   "metadata": {},
   "outputs": [],
   "source": [
    "import numpy as np\n",
    "import pandas as pd\n",
    "import matplotlib.pyplot as plt\n",
    "\n",
    "\n",
    "term = 60\n",
    "\n",
    "def calc_interest(P,emi,interest_rate = 0.0702):\n",
    "    interest_paid = np.floor(((interest_rate/12)*p)*100)/100\n",
    "    principal_paid = np.round(emi-interest_paid, 2)\n",
    "    new_balance = np.round(p - principal_paid,2)\n",
    "    return(emi, interest_paid, principal_paid, new_balance)\n",
    "\n",
    "payment_list = []\n",
    "for n in range(1, term + 1):\n",
    "    emi,i_paid,p_paid,new_p = calc_interest(p, emi)\n",
    "    payment_list.append([n, p, emi, i_paid, p_paid, new_p])\n",
    "    p = np.round(new_p,2)"
   ]
  },
  {
   "cell_type": "code",
   "execution_count": 7,
   "metadata": {},
   "outputs": [
    {
     "data": {
      "text/plain": [
       "[[1, 33448.625, 662.638532377825, 195.67, 466.97, 32981.66],\n",
       " [2, 32981.66, 662.638532377825, 192.94, 469.7, 32511.96],\n",
       " [3, 32511.96, 662.638532377825, 190.19, 472.45, 32039.51],\n",
       " [4, 32039.51, 662.638532377825, 187.43, 475.21, 31564.3],\n",
       " [5, 31564.3, 662.638532377825, 184.65, 477.99, 31086.31],\n",
       " [6, 31086.31, 662.638532377825, 181.85, 480.79, 30605.52],\n",
       " [7, 30605.52, 662.638532377825, 179.04, 483.6, 30121.92],\n",
       " [8, 30121.92, 662.638532377825, 176.21, 486.43, 29635.49],\n",
       " [9, 29635.49, 662.638532377825, 173.36, 489.28, 29146.21],\n",
       " [10, 29146.21, 662.638532377825, 170.5, 492.14, 28654.07],\n",
       " [11, 28654.07, 662.638532377825, 167.62, 495.02, 28159.05],\n",
       " [12, 28159.05, 662.638532377825, 164.73, 497.91, 27661.14],\n",
       " [13, 27661.14, 662.638532377825, 161.81, 500.83, 27160.31],\n",
       " [14, 27160.31, 662.638532377825, 158.88, 503.76, 26656.55],\n",
       " [15, 26656.55, 662.638532377825, 155.94, 506.7, 26149.85],\n",
       " [16, 26149.85, 662.638532377825, 152.97, 509.67, 25640.18],\n",
       " [17, 25640.18, 662.638532377825, 149.99, 512.65, 25127.53],\n",
       " [18, 25127.53, 662.638532377825, 146.99, 515.65, 24611.88],\n",
       " [19, 24611.88, 662.638532377825, 143.97, 518.67, 24093.21],\n",
       " [20, 24093.21, 662.638532377825, 140.94, 521.7, 23571.51],\n",
       " [21, 23571.51, 662.638532377825, 137.89, 524.75, 23046.76],\n",
       " [22, 23046.76, 662.638532377825, 134.82, 527.82, 22518.94],\n",
       " [23, 22518.94, 662.638532377825, 131.73, 530.91, 21988.03],\n",
       " [24, 21988.03, 662.638532377825, 128.62, 534.02, 21454.01],\n",
       " [25, 21454.01, 662.638532377825, 125.5, 537.14, 20916.87],\n",
       " [26, 20916.87, 662.638532377825, 122.36, 540.28, 20376.59],\n",
       " [27, 20376.59, 662.638532377825, 119.2, 543.44, 19833.15],\n",
       " [28, 19833.15, 662.638532377825, 116.02, 546.62, 19286.53],\n",
       " [29, 19286.53, 662.638532377825, 112.82, 549.82, 18736.71],\n",
       " [30, 18736.71, 662.638532377825, 109.6, 553.04, 18183.67],\n",
       " [31, 18183.67, 662.638532377825, 106.37, 556.27, 17627.4],\n",
       " [32, 17627.4, 662.638532377825, 103.12, 559.52, 17067.88],\n",
       " [33, 17067.88, 662.638532377825, 99.84, 562.8, 16505.08],\n",
       " [34, 16505.08, 662.638532377825, 96.55, 566.09, 15938.99],\n",
       " [35, 15938.99, 662.638532377825, 93.24, 569.4, 15369.59],\n",
       " [36, 15369.59, 662.638532377825, 89.91, 572.73, 14796.86],\n",
       " [37, 14796.86, 662.638532377825, 86.56, 576.08, 14220.78],\n",
       " [38, 14220.78, 662.638532377825, 83.19, 579.45, 13641.33],\n",
       " [39, 13641.33, 662.638532377825, 79.8, 582.84, 13058.49],\n",
       " [40, 13058.49, 662.638532377825, 76.39, 586.25, 12472.24],\n",
       " [41, 12472.24, 662.638532377825, 72.96, 589.68, 11882.56],\n",
       " [42, 11882.56, 662.638532377825, 69.51, 593.13, 11289.43],\n",
       " [43, 11289.43, 662.638532377825, 66.04, 596.6, 10692.83],\n",
       " [44, 10692.83, 662.638532377825, 62.55, 600.09, 10092.74],\n",
       " [45, 10092.74, 662.638532377825, 59.04, 603.6, 9489.14],\n",
       " [46, 9489.14, 662.638532377825, 55.51, 607.13, 8882.01],\n",
       " [47, 8882.01, 662.638532377825, 51.95, 610.69, 8271.32],\n",
       " [48, 8271.32, 662.638532377825, 48.38, 614.26, 7657.06],\n",
       " [49, 7657.06, 662.638532377825, 44.79, 617.85, 7039.21],\n",
       " [50, 7039.21, 662.638532377825, 41.17, 621.47, 6417.74],\n",
       " [51, 6417.74, 662.638532377825, 37.54, 625.1, 5792.64],\n",
       " [52, 5792.64, 662.638532377825, 33.88, 628.76, 5163.88],\n",
       " [53, 5163.88, 662.638532377825, 30.2, 632.44, 4531.44],\n",
       " [54, 4531.44, 662.638532377825, 26.5, 636.14, 3895.3],\n",
       " [55, 3895.3, 662.638532377825, 22.78, 639.86, 3255.44],\n",
       " [56, 3255.44, 662.638532377825, 19.04, 643.6, 2611.84],\n",
       " [57, 2611.84, 662.638532377825, 15.27, 647.37, 1964.47],\n",
       " [58, 1964.47, 662.638532377825, 11.49, 651.15, 1313.32],\n",
       " [59, 1313.32, 662.638532377825, 7.68, 654.96, 658.36],\n",
       " [60, 658.36, 662.638532377825, 3.85, 658.79, -0.43]]"
      ]
     },
     "execution_count": 7,
     "metadata": {},
     "output_type": "execute_result"
    }
   ],
   "source": [
    "payment_list"
   ]
  },
  {
   "cell_type": "code",
   "execution_count": 8,
   "metadata": {},
   "outputs": [
    {
     "data": {
      "text/html": [
       "<div>\n",
       "<style scoped>\n",
       "    .dataframe tbody tr th:only-of-type {\n",
       "        vertical-align: middle;\n",
       "    }\n",
       "\n",
       "    .dataframe tbody tr th {\n",
       "        vertical-align: top;\n",
       "    }\n",
       "\n",
       "    .dataframe thead th {\n",
       "        text-align: right;\n",
       "    }\n",
       "</style>\n",
       "<table border=\"1\" class=\"dataframe\">\n",
       "  <thead>\n",
       "    <tr style=\"text-align: right;\">\n",
       "      <th></th>\n",
       "      <th>Month</th>\n",
       "      <th>Starting Balance</th>\n",
       "      <th>Repayment</th>\n",
       "      <th>Interest Paid</th>\n",
       "      <th>Principal Paid</th>\n",
       "      <th>New Balance</th>\n",
       "    </tr>\n",
       "  </thead>\n",
       "  <tbody>\n",
       "    <tr>\n",
       "      <th>0</th>\n",
       "      <td>1</td>\n",
       "      <td>33448.625</td>\n",
       "      <td>662.638532</td>\n",
       "      <td>195.67</td>\n",
       "      <td>466.97</td>\n",
       "      <td>32981.66</td>\n",
       "    </tr>\n",
       "    <tr>\n",
       "      <th>1</th>\n",
       "      <td>2</td>\n",
       "      <td>32981.660</td>\n",
       "      <td>662.638532</td>\n",
       "      <td>192.94</td>\n",
       "      <td>469.70</td>\n",
       "      <td>32511.96</td>\n",
       "    </tr>\n",
       "    <tr>\n",
       "      <th>2</th>\n",
       "      <td>3</td>\n",
       "      <td>32511.960</td>\n",
       "      <td>662.638532</td>\n",
       "      <td>190.19</td>\n",
       "      <td>472.45</td>\n",
       "      <td>32039.51</td>\n",
       "    </tr>\n",
       "    <tr>\n",
       "      <th>3</th>\n",
       "      <td>4</td>\n",
       "      <td>32039.510</td>\n",
       "      <td>662.638532</td>\n",
       "      <td>187.43</td>\n",
       "      <td>475.21</td>\n",
       "      <td>31564.30</td>\n",
       "    </tr>\n",
       "    <tr>\n",
       "      <th>4</th>\n",
       "      <td>5</td>\n",
       "      <td>31564.300</td>\n",
       "      <td>662.638532</td>\n",
       "      <td>184.65</td>\n",
       "      <td>477.99</td>\n",
       "      <td>31086.31</td>\n",
       "    </tr>\n",
       "  </tbody>\n",
       "</table>\n",
       "</div>"
      ],
      "text/plain": [
       "   Month  Starting Balance   Repayment  Interest Paid  Principal Paid  \\\n",
       "0      1         33448.625  662.638532         195.67          466.97   \n",
       "1      2         32981.660  662.638532         192.94          469.70   \n",
       "2      3         32511.960  662.638532         190.19          472.45   \n",
       "3      4         32039.510  662.638532         187.43          475.21   \n",
       "4      5         31564.300  662.638532         184.65          477.99   \n",
       "\n",
       "   New Balance  \n",
       "0     32981.66  \n",
       "1     32511.96  \n",
       "2     32039.51  \n",
       "3     31564.30  \n",
       "4     31086.31  "
      ]
     },
     "execution_count": 8,
     "metadata": {},
     "output_type": "execute_result"
    }
   ],
   "source": [
    "c_names = ['Month','Starting Balance','Repayment','Interest Paid','Principal Paid','New Balance']\n",
    "payment_table = pd.DataFrame(payment_list, columns = c_names)\n",
    "payment_table.head()"
   ]
  },
  {
   "cell_type": "code",
   "execution_count": 9,
   "metadata": {},
   "outputs": [
    {
     "data": {
      "text/plain": [
       "6309.34"
      ]
     },
     "execution_count": 9,
     "metadata": {},
     "output_type": "execute_result"
    }
   ],
   "source": [
    "np.round(payment_table['Interest Paid'].sum(), 2)"
   ]
  },
  {
   "cell_type": "code",
   "execution_count": 13,
   "metadata": {},
   "outputs": [
    {
     "data": {
      "image/png": "[encoded data removed]",
      "text/plain": [
       "<Figure size 1000x500 with 1 Axes>"
      ]
     },
     "metadata": {},
     "output_type": "display_data"
    }
   ],
   "source": [
    "fig, axes = plt.subplots(nrows = 1, ncols = 1, figsize=(10, 5) )\n",
    "axes.plot(payment_table['Month'], payment_table['Principal Paid'], c = 'b', label = 'Principal');\n",
    "axes.plot(payment_table['Month'], payment_table['Interest Paid'], c = 'k', label = 'Interest');\n",
    "\n",
    "axes.set_xlim((1, 60));\n",
    "axes.set_xticks([1, 10, 20, 30, 40, 50, 60, 70])\n",
    "axes.set_ylim((0, 700));\n",
    "axes.set_ylabel('Dollars', fontsize = 22);\n",
    "axes.set_xlabel('Month', fontsize = 22);\n",
    "\n",
    "plt.xticks(fontsize = 20)\n",
    "plt.yticks(fontsize = 20)\n",
    "axes.set_title('Interest and Principal Paid Each Month', fontsize = 24)\n",
    "\n",
    "plt.legend(bbox_to_anchor=(1.02,0), loc=\"lower left\", borderaxespad=0, fontsize = 20)\n",
    "plt.tight_layout()\n",
    "plt.grid(axis = 'both')\n",
    "#plt.savefig('Interest_Principal.png', dpi = 1000)"
   ]
  },
  {
   "cell_type": "code",
   "execution_count": 11,
   "metadata": {},
   "outputs": [
    {
     "name": "stdout",
     "output_type": "stream",
     "text": [
      "1\n",
      "2\n",
      "3\n",
      "5\n",
      "8\n",
      "13\n",
      "21\n",
      "34\n",
      "55\n",
      "89\n"
     ]
    }
   ],
   "source": [
    "renum = 10\n",
    "num1 = 1\n",
    "num2 = 1\n",
    "next = num2\n",
    "count = 1\n",
    "\n",
    "while count <= renum:\n",
    "    count+=1\n",
    "    print(next, end='')\n",
    "    num1, num2 = num2, next\n",
    "    next = num1 + num2\n",
    "    print()\n"
   ]
  }
 ],
 "metadata": {
  "anaconda-cloud": {},
  "kernelspec": {
   "display_name": "Python 3 (ipykernel)",
   "language": "python",
   "name": "python3"
  },
  "language_info": {
   "codemirror_mode": {
    "name": "ipython",
    "version": 3
   },
   "file_extension": ".py",
   "mimetype": "text/x-python",
   "name": "python",
   "nbconvert_exporter": "python",
   "pygments_lexer": "ipython3",
   "version": "3.11.5"
  }
 },
 "nbformat": 4,
 "nbformat_minor": 1
}
