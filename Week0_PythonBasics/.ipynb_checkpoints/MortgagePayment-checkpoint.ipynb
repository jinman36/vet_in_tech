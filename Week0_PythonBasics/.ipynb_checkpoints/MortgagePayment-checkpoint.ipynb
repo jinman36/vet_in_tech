{
 "cells": [
  {
   "cell_type": "markdown",
   "metadata": {},
   "source": [
    "<h1> Calculating a Monthly Payment (Simplified)</h1>"
   ]
  },
  {
   "cell_type": "code",
   "execution_count": 7,
   "metadata": {},
   "outputs": [
    {
     "data": {
      "text/plain": [
       "1686.4161349178237"
      ]
     },
     "execution_count": 7,
     "metadata": {},
     "output_type": "execute_result"
    }
   ],
   "source": [
    "P = 400000\n",
    "r = 0.03 / 12\n",
    "n = 30 * 12\n",
    "numerator = (r *((1 + r)**(n)) )\n",
    "denominator = ((1 + r)**(n)) - 1\n",
    "emi = P * (numerator / denominator)\n",
    "emi"
   ]
  }
 ],
 "metadata": {
  "anaconda-cloud": {},
  "kernelspec": {
   "display_name": "Python 3 (ipykernel)",
   "language": "python",
   "name": "python3"
  },
  "language_info": {
   "codemirror_mode": {
    "name": "ipython",
    "version": 3
   },
   "file_extension": ".py",
   "mimetype": "text/x-python",
   "name": "python",
   "nbconvert_exporter": "python",
   "pygments_lexer": "ipython3",
   "version": "3.9.7"
  }
 },
 "nbformat": 4,
 "nbformat_minor": 1
}
